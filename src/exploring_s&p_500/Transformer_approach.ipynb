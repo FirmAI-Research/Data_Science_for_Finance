{
 "cells": [
  {
   "cell_type": "code",
   "execution_count": 1,
   "metadata": {},
   "outputs": [],
   "source": [
    "import pandas as pd  #pandas does things with matrixes\n",
    "import numpy as np #used for sorting a matrix\n",
    "import matplotlib.pyplot as plt #matplotlib is used for plotting data\n",
    "import matplotlib.ticker as ticker #used for changing tick spacing\n",
    "import datetime as dt #used for dates\n",
    "import matplotlib.dates as mdates #used for dates, in a different way\n",
    "import os #used for changes of directory\n",
    "import warnings\n",
    "warnings.filterwarnings(\"ignore\")\n",
    "from sklearn.preprocessing import StandardScaler\n",
    "from sklearn.metrics import mean_squared_error, mean_absolute_error\n",
    "\n",
    "from numpy import array\n",
    "from tensorflow.keras.models import Sequential\n",
    "from tensorflow.keras.layers import LSTM\n",
    "from tensorflow.keras.layers import Dense\n",
    "from tensorflow.keras.layers import Flatten\n",
    "from tensorflow.keras.layers import Conv1D\n",
    "from tensorflow.keras.layers import MaxPooling1D"
   ]
  }
 ],
 "metadata": {
  "kernelspec": {
   "display_name": "Finance Class Kernel",
   "language": "python",
   "name": "finance_class"
  },
  "language_info": {
   "codemirror_mode": {
    "name": "ipython",
    "version": 3
   },
   "file_extension": ".py",
   "mimetype": "text/x-python",
   "name": "python",
   "nbconvert_exporter": "python",
   "pygments_lexer": "ipython3",
   "version": "3.7.2"
  }
 },
 "nbformat": 4,
 "nbformat_minor": 2
}
