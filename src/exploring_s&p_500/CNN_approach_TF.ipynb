{
 "cells": [
  {
   "cell_type": "code",
   "execution_count": 1,
   "metadata": {},
   "outputs": [],
   "source": [
    "import pandas as pd  #pandas does things with matrixes\n",
    "import numpy as np #used for sorting a matrix\n",
    "import matplotlib.pyplot as plt #matplotlib is used for plotting data\n",
    "import matplotlib.ticker as ticker #used for changing tick spacing\n",
    "import datetime as dt #used for dates\n",
    "import matplotlib.dates as mdates #used for dates, in a different way\n",
    "import os #used for changes of directory\n",
    "import warnings\n",
    "warnings.filterwarnings(\"ignore\")\n",
    "from sklearn.preprocessing import StandardScaler\n",
    "from sklearn.metrics import mean_squared_error, mean_absolute_error\n",
    "\n",
    "from numpy import array\n",
    "from tensorflow.keras.models import Sequential\n",
    "from tensorflow.keras.layers import Dense\n",
    "from tensorflow.keras.layers import Flatten\n",
    "from tensorflow.keras.layers import Conv1D\n",
    "from tensorflow.keras.layers import MaxPooling1D\n",
    "\n",
    "import sys\n",
    "sys.path.append('../')\n",
    "from utils import *"
   ]
  },
  {
   "cell_type": "code",
   "execution_count": 2,
   "metadata": {},
   "outputs": [
    {
     "data": {
      "text/html": [
       "<div>\n",
       "<style scoped>\n",
       "    .dataframe tbody tr th:only-of-type {\n",
       "        vertical-align: middle;\n",
       "    }\n",
       "\n",
       "    .dataframe tbody tr th {\n",
       "        vertical-align: top;\n",
       "    }\n",
       "\n",
       "    .dataframe thead th {\n",
       "        text-align: right;\n",
       "    }\n",
       "</style>\n",
       "<table border=\"1\" class=\"dataframe\">\n",
       "  <thead>\n",
       "    <tr style=\"text-align: right;\">\n",
       "      <th></th>\n",
       "      <th>Date</th>\n",
       "      <th>Open</th>\n",
       "      <th>High</th>\n",
       "      <th>Low</th>\n",
       "      <th>Close</th>\n",
       "      <th>Volume</th>\n",
       "      <th>Name</th>\n",
       "    </tr>\n",
       "  </thead>\n",
       "  <tbody>\n",
       "    <tr>\n",
       "      <th>0</th>\n",
       "      <td>2012-08-13</td>\n",
       "      <td>92.29</td>\n",
       "      <td>92.59</td>\n",
       "      <td>91.74</td>\n",
       "      <td>92.40</td>\n",
       "      <td>2075391.0</td>\n",
       "      <td>MMM</td>\n",
       "    </tr>\n",
       "    <tr>\n",
       "      <th>1</th>\n",
       "      <td>2012-08-14</td>\n",
       "      <td>92.36</td>\n",
       "      <td>92.50</td>\n",
       "      <td>92.01</td>\n",
       "      <td>92.30</td>\n",
       "      <td>1843476.0</td>\n",
       "      <td>MMM</td>\n",
       "    </tr>\n",
       "    <tr>\n",
       "      <th>2</th>\n",
       "      <td>2012-08-15</td>\n",
       "      <td>92.00</td>\n",
       "      <td>92.74</td>\n",
       "      <td>91.94</td>\n",
       "      <td>92.54</td>\n",
       "      <td>1983395.0</td>\n",
       "      <td>MMM</td>\n",
       "    </tr>\n",
       "    <tr>\n",
       "      <th>3</th>\n",
       "      <td>2012-08-16</td>\n",
       "      <td>92.75</td>\n",
       "      <td>93.87</td>\n",
       "      <td>92.21</td>\n",
       "      <td>93.74</td>\n",
       "      <td>3395145.0</td>\n",
       "      <td>MMM</td>\n",
       "    </tr>\n",
       "    <tr>\n",
       "      <th>4</th>\n",
       "      <td>2012-08-17</td>\n",
       "      <td>93.93</td>\n",
       "      <td>94.30</td>\n",
       "      <td>93.59</td>\n",
       "      <td>94.24</td>\n",
       "      <td>3069513.0</td>\n",
       "      <td>MMM</td>\n",
       "    </tr>\n",
       "  </tbody>\n",
       "</table>\n",
       "</div>"
      ],
      "text/plain": [
       "         Date   Open   High    Low  Close     Volume Name\n",
       "0  2012-08-13  92.29  92.59  91.74  92.40  2075391.0  MMM\n",
       "1  2012-08-14  92.36  92.50  92.01  92.30  1843476.0  MMM\n",
       "2  2012-08-15  92.00  92.74  91.94  92.54  1983395.0  MMM\n",
       "3  2012-08-16  92.75  93.87  92.21  93.74  3395145.0  MMM\n",
       "4  2012-08-17  93.93  94.30  93.59  94.24  3069513.0  MMM"
      ]
     },
     "execution_count": 2,
     "metadata": {},
     "output_type": "execute_result"
    }
   ],
   "source": [
    "dataset_1yr = pd.read_csv(\"../../Data/all_stocks_5yr.csv\")\n",
    "dataset_1yr.head()\n",
    "\n",
    "# Changing the date column to the datetime format (best format to work with time series)\n",
    "dataset_1yr['Date'] = [dt.datetime.strptime(d,'%Y-%m-%d').date() for d in dataset_1yr['Date']]\n",
    "\n",
    "dataset_1yr.head()"
   ]
  },
  {
   "cell_type": "code",
   "execution_count": 3,
   "metadata": {},
   "outputs": [
    {
     "data": {
      "text/html": [
       "<div>\n",
       "<style scoped>\n",
       "    .dataframe tbody tr th:only-of-type {\n",
       "        vertical-align: middle;\n",
       "    }\n",
       "\n",
       "    .dataframe tbody tr th {\n",
       "        vertical-align: top;\n",
       "    }\n",
       "\n",
       "    .dataframe thead th {\n",
       "        text-align: right;\n",
       "    }\n",
       "</style>\n",
       "<table border=\"1\" class=\"dataframe\">\n",
       "  <thead>\n",
       "    <tr style=\"text-align: right;\">\n",
       "      <th></th>\n",
       "      <th>Date</th>\n",
       "      <th>Open</th>\n",
       "      <th>High</th>\n",
       "      <th>Low</th>\n",
       "      <th>Close</th>\n",
       "      <th>Volume</th>\n",
       "      <th>Name</th>\n",
       "      <th>Mid</th>\n",
       "    </tr>\n",
       "  </thead>\n",
       "  <tbody>\n",
       "    <tr>\n",
       "      <th>0</th>\n",
       "      <td>2012-08-13</td>\n",
       "      <td>92.29</td>\n",
       "      <td>92.59</td>\n",
       "      <td>91.74</td>\n",
       "      <td>92.40</td>\n",
       "      <td>2075391.0</td>\n",
       "      <td>MMM</td>\n",
       "      <td>92.165</td>\n",
       "    </tr>\n",
       "    <tr>\n",
       "      <th>1</th>\n",
       "      <td>2012-08-14</td>\n",
       "      <td>92.36</td>\n",
       "      <td>92.50</td>\n",
       "      <td>92.01</td>\n",
       "      <td>92.30</td>\n",
       "      <td>1843476.0</td>\n",
       "      <td>MMM</td>\n",
       "      <td>92.255</td>\n",
       "    </tr>\n",
       "    <tr>\n",
       "      <th>2</th>\n",
       "      <td>2012-08-15</td>\n",
       "      <td>92.00</td>\n",
       "      <td>92.74</td>\n",
       "      <td>91.94</td>\n",
       "      <td>92.54</td>\n",
       "      <td>1983395.0</td>\n",
       "      <td>MMM</td>\n",
       "      <td>92.340</td>\n",
       "    </tr>\n",
       "    <tr>\n",
       "      <th>3</th>\n",
       "      <td>2012-08-16</td>\n",
       "      <td>92.75</td>\n",
       "      <td>93.87</td>\n",
       "      <td>92.21</td>\n",
       "      <td>93.74</td>\n",
       "      <td>3395145.0</td>\n",
       "      <td>MMM</td>\n",
       "      <td>93.040</td>\n",
       "    </tr>\n",
       "    <tr>\n",
       "      <th>4</th>\n",
       "      <td>2012-08-17</td>\n",
       "      <td>93.93</td>\n",
       "      <td>94.30</td>\n",
       "      <td>93.59</td>\n",
       "      <td>94.24</td>\n",
       "      <td>3069513.0</td>\n",
       "      <td>MMM</td>\n",
       "      <td>93.945</td>\n",
       "    </tr>\n",
       "  </tbody>\n",
       "</table>\n",
       "</div>"
      ],
      "text/plain": [
       "         Date   Open   High    Low  Close     Volume Name     Mid\n",
       "0  2012-08-13  92.29  92.59  91.74  92.40  2075391.0  MMM  92.165\n",
       "1  2012-08-14  92.36  92.50  92.01  92.30  1843476.0  MMM  92.255\n",
       "2  2012-08-15  92.00  92.74  91.94  92.54  1983395.0  MMM  92.340\n",
       "3  2012-08-16  92.75  93.87  92.21  93.74  3395145.0  MMM  93.040\n",
       "4  2012-08-17  93.93  94.30  93.59  94.24  3069513.0  MMM  93.945"
      ]
     },
     "execution_count": 3,
     "metadata": {},
     "output_type": "execute_result"
    }
   ],
   "source": [
    "# Assigning a mid price column with the mean of the Highest and Lowest values\n",
    "\n",
    "dataset_1yr['Mid'] = (dataset_1yr['High'] + dataset_1yr['Low'])/2\n",
    "dataset_1yr.head()"
   ]
  },
  {
   "cell_type": "code",
   "execution_count": 4,
   "metadata": {},
   "outputs": [
    {
     "name": "stdout",
     "output_type": "stream",
     "text": [
      "   Date  Open  High  Low  Close  Volume  Name  Mid\n",
      "0     0   384   208  227      0     406     0  358\n",
      "   Date  Open  High  Low  Close  Volume  Name  Mid\n",
      "0     0     0     0    0      0       0     0    0\n"
     ]
    }
   ],
   "source": [
    "# Getting rid of null columns\n",
    "\n",
    "missing_data = pd.DataFrame(dataset_1yr.isnull().sum()).T\n",
    "print(missing_data)\n",
    "\n",
    "for index, column in enumerate(missing_data.columns):\n",
    "    if missing_data.loc[0][index] != 0:\n",
    "        dataset_1yr = dataset_1yr.drop(dataset_1yr.loc[dataset_1yr[column].isnull()].index)\n",
    "        \n",
    "missing_data = pd.DataFrame(dataset_1yr.isnull().sum()).T\n",
    "print(missing_data)"
   ]
  },
  {
   "cell_type": "code",
   "execution_count": 5,
   "metadata": {},
   "outputs": [
    {
     "data": {
      "text/html": [
       "<div>\n",
       "<style scoped>\n",
       "    .dataframe tbody tr th:only-of-type {\n",
       "        vertical-align: middle;\n",
       "    }\n",
       "\n",
       "    .dataframe tbody tr th {\n",
       "        vertical-align: top;\n",
       "    }\n",
       "\n",
       "    .dataframe thead th {\n",
       "        text-align: right;\n",
       "    }\n",
       "</style>\n",
       "<table border=\"1\" class=\"dataframe\">\n",
       "  <thead>\n",
       "    <tr style=\"text-align: right;\">\n",
       "      <th></th>\n",
       "      <th>Date</th>\n",
       "      <th>Open</th>\n",
       "      <th>High</th>\n",
       "      <th>Low</th>\n",
       "      <th>Close</th>\n",
       "      <th>Volume</th>\n",
       "      <th>Name</th>\n",
       "      <th>Mid</th>\n",
       "    </tr>\n",
       "  </thead>\n",
       "  <tbody>\n",
       "    <tr>\n",
       "      <th>0</th>\n",
       "      <td>2012-08-13</td>\n",
       "      <td>92.29</td>\n",
       "      <td>92.59</td>\n",
       "      <td>91.74</td>\n",
       "      <td>92.40</td>\n",
       "      <td>2075391.0</td>\n",
       "      <td>MMM</td>\n",
       "      <td>92.165</td>\n",
       "    </tr>\n",
       "    <tr>\n",
       "      <th>1</th>\n",
       "      <td>2012-08-14</td>\n",
       "      <td>92.36</td>\n",
       "      <td>92.50</td>\n",
       "      <td>92.01</td>\n",
       "      <td>92.30</td>\n",
       "      <td>1843476.0</td>\n",
       "      <td>MMM</td>\n",
       "      <td>92.255</td>\n",
       "    </tr>\n",
       "    <tr>\n",
       "      <th>2</th>\n",
       "      <td>2012-08-15</td>\n",
       "      <td>92.00</td>\n",
       "      <td>92.74</td>\n",
       "      <td>91.94</td>\n",
       "      <td>92.54</td>\n",
       "      <td>1983395.0</td>\n",
       "      <td>MMM</td>\n",
       "      <td>92.340</td>\n",
       "    </tr>\n",
       "    <tr>\n",
       "      <th>3</th>\n",
       "      <td>2012-08-16</td>\n",
       "      <td>92.75</td>\n",
       "      <td>93.87</td>\n",
       "      <td>92.21</td>\n",
       "      <td>93.74</td>\n",
       "      <td>3395145.0</td>\n",
       "      <td>MMM</td>\n",
       "      <td>93.040</td>\n",
       "    </tr>\n",
       "    <tr>\n",
       "      <th>4</th>\n",
       "      <td>2012-08-17</td>\n",
       "      <td>93.93</td>\n",
       "      <td>94.30</td>\n",
       "      <td>93.59</td>\n",
       "      <td>94.24</td>\n",
       "      <td>3069513.0</td>\n",
       "      <td>MMM</td>\n",
       "      <td>93.945</td>\n",
       "    </tr>\n",
       "  </tbody>\n",
       "</table>\n",
       "</div>"
      ],
      "text/plain": [
       "         Date   Open   High    Low  Close     Volume Name     Mid\n",
       "0  2012-08-13  92.29  92.59  91.74  92.40  2075391.0  MMM  92.165\n",
       "1  2012-08-14  92.36  92.50  92.01  92.30  1843476.0  MMM  92.255\n",
       "2  2012-08-15  92.00  92.74  91.94  92.54  1983395.0  MMM  92.340\n",
       "3  2012-08-16  92.75  93.87  92.21  93.74  3395145.0  MMM  93.040\n",
       "4  2012-08-17  93.93  94.30  93.59  94.24  3069513.0  MMM  93.945"
      ]
     },
     "execution_count": 5,
     "metadata": {},
     "output_type": "execute_result"
    }
   ],
   "source": [
    "# Let's analyze 3M stocks a bit deeper\n",
    "\n",
    "MMM_stocks = dataset_1yr[dataset_1yr['Name'] == 'MMM']\n",
    "\n",
    "MMM_stocks.head()"
   ]
  },
  {
   "cell_type": "code",
   "execution_count": 6,
   "metadata": {},
   "outputs": [],
   "source": [
    "# Creating a trend feature\n",
    "\n",
    "trend_term = [0]\n",
    "temp = 0\n",
    "for term in range(len(MMM_stocks['Close']) - 1):\n",
    "    temp = MMM_stocks['Close'].iloc[term + 1] - MMM_stocks['Close'].iloc[term]\n",
    "    if temp > 0:\n",
    "        trend_term.append(1)\n",
    "    elif temp < 0:\n",
    "        trend_term.append(-1)\n",
    "    else:\n",
    "        trend_term.append(0)\n",
    "\n",
    "MMM_stocks['Trend_term'] = pd.DataFrame(np.array(trend_term))"
   ]
  },
  {
   "cell_type": "code",
   "execution_count": 7,
   "metadata": {},
   "outputs": [
    {
     "data": {
      "text/html": [
       "<div>\n",
       "<style scoped>\n",
       "    .dataframe tbody tr th:only-of-type {\n",
       "        vertical-align: middle;\n",
       "    }\n",
       "\n",
       "    .dataframe tbody tr th {\n",
       "        vertical-align: top;\n",
       "    }\n",
       "\n",
       "    .dataframe thead th {\n",
       "        text-align: right;\n",
       "    }\n",
       "</style>\n",
       "<table border=\"1\" class=\"dataframe\">\n",
       "  <thead>\n",
       "    <tr style=\"text-align: right;\">\n",
       "      <th></th>\n",
       "      <th>Open</th>\n",
       "      <th>High</th>\n",
       "      <th>Low</th>\n",
       "      <th>Close</th>\n",
       "      <th>Volume</th>\n",
       "      <th>Mid</th>\n",
       "      <th>Trend_term</th>\n",
       "      <th>PC_change</th>\n",
       "      <th>Target</th>\n",
       "    </tr>\n",
       "  </thead>\n",
       "  <tbody>\n",
       "    <tr>\n",
       "      <th>1</th>\n",
       "      <td>92.36</td>\n",
       "      <td>92.50</td>\n",
       "      <td>92.01</td>\n",
       "      <td>92.30</td>\n",
       "      <td>1843476.0</td>\n",
       "      <td>92.255</td>\n",
       "      <td>-1.0</td>\n",
       "      <td>-0.001082</td>\n",
       "      <td>92.54</td>\n",
       "    </tr>\n",
       "    <tr>\n",
       "      <th>2</th>\n",
       "      <td>92.00</td>\n",
       "      <td>92.74</td>\n",
       "      <td>91.94</td>\n",
       "      <td>92.54</td>\n",
       "      <td>1983395.0</td>\n",
       "      <td>92.340</td>\n",
       "      <td>1.0</td>\n",
       "      <td>0.002600</td>\n",
       "      <td>93.74</td>\n",
       "    </tr>\n",
       "    <tr>\n",
       "      <th>3</th>\n",
       "      <td>92.75</td>\n",
       "      <td>93.87</td>\n",
       "      <td>92.21</td>\n",
       "      <td>93.74</td>\n",
       "      <td>3395145.0</td>\n",
       "      <td>93.040</td>\n",
       "      <td>1.0</td>\n",
       "      <td>0.012967</td>\n",
       "      <td>94.24</td>\n",
       "    </tr>\n",
       "    <tr>\n",
       "      <th>4</th>\n",
       "      <td>93.93</td>\n",
       "      <td>94.30</td>\n",
       "      <td>93.59</td>\n",
       "      <td>94.24</td>\n",
       "      <td>3069513.0</td>\n",
       "      <td>93.945</td>\n",
       "      <td>1.0</td>\n",
       "      <td>0.005334</td>\n",
       "      <td>93.89</td>\n",
       "    </tr>\n",
       "    <tr>\n",
       "      <th>5</th>\n",
       "      <td>94.00</td>\n",
       "      <td>94.17</td>\n",
       "      <td>93.55</td>\n",
       "      <td>93.89</td>\n",
       "      <td>1640008.0</td>\n",
       "      <td>93.860</td>\n",
       "      <td>-1.0</td>\n",
       "      <td>-0.003714</td>\n",
       "      <td>93.21</td>\n",
       "    </tr>\n",
       "  </tbody>\n",
       "</table>\n",
       "</div>"
      ],
      "text/plain": [
       "    Open   High    Low  Close     Volume     Mid  Trend_term  PC_change  \\\n",
       "1  92.36  92.50  92.01  92.30  1843476.0  92.255        -1.0  -0.001082   \n",
       "2  92.00  92.74  91.94  92.54  1983395.0  92.340         1.0   0.002600   \n",
       "3  92.75  93.87  92.21  93.74  3395145.0  93.040         1.0   0.012967   \n",
       "4  93.93  94.30  93.59  94.24  3069513.0  93.945         1.0   0.005334   \n",
       "5  94.00  94.17  93.55  93.89  1640008.0  93.860        -1.0  -0.003714   \n",
       "\n",
       "   Target  \n",
       "1   92.54  \n",
       "2   93.74  \n",
       "3   94.24  \n",
       "4   93.89  \n",
       "5   93.21  "
      ]
     },
     "execution_count": 7,
     "metadata": {},
     "output_type": "execute_result"
    }
   ],
   "source": [
    "# Creating a percent change column related to the closing price\n",
    "\n",
    "percent_change_closing_price = MMM_stocks['Close'].pct_change()\n",
    "percent_change_closing_price.fillna(0, inplace=True)\n",
    "MMM_stocks['PC_change'] = pd.DataFrame(percent_change_closing_price)\n",
    "\n",
    "# As we want to predict the closing price, let's add the target column as the close price shifted by 1\n",
    "\n",
    "MMM_stocks['Target'] = MMM_stocks['Close'].shift(-1)\n",
    "\n",
    "MMM_stocks = MMM_stocks.drop(0, axis = 0)\n",
    "MMM_stocks = MMM_stocks.drop('Name', axis = 1)\n",
    "MMM_stocks = MMM_stocks.drop('Date', axis = 1)\n",
    "\n",
    "MMM_stocks.head()"
   ]
  },
  {
   "cell_type": "code",
   "execution_count": 8,
   "metadata": {},
   "outputs": [
    {
     "name": "stdout",
     "output_type": "stream",
     "text": [
      "(1000, 8)\n",
      "(256, 8)\n",
      "(1000,)\n",
      "(256,)\n"
     ]
    }
   ],
   "source": [
    "# Separating as Training and Testing\n",
    "\n",
    "train_data = MMM_stocks.iloc[:1000,:]\n",
    "train_data = train_data.drop('Target',axis=1)\n",
    "test_data = MMM_stocks.iloc[1000:,:]\n",
    "test_data = test_data.drop('Target',axis=1)\n",
    "\n",
    "y_train = MMM_stocks.iloc[:1000,-1]\n",
    "y_test = MMM_stocks.iloc[1000:,-1]\n",
    "\n",
    "print(train_data.shape)\n",
    "print(test_data.shape)\n",
    "print(y_train.shape)\n",
    "print(y_test.shape)"
   ]
  },
  {
   "cell_type": "markdown",
   "metadata": {},
   "source": [
    "## Keras 1D - CNN for time series prediction"
   ]
  },
  {
   "cell_type": "markdown",
   "metadata": {},
   "source": [
    "### 1D - CNN for 1 step ahead prediction with univariate input"
   ]
  },
  {
   "cell_type": "markdown",
   "metadata": {},
   "source": [
    "#### Scaling the data"
   ]
  },
  {
   "cell_type": "code",
   "execution_count": 107,
   "metadata": {},
   "outputs": [],
   "source": [
    "# Scaling Data for the Univariate Example\n",
    "\n",
    "# Training Data\n",
    "\n",
    "scaler_dataframe = StandardScaler()\n",
    "training_scaled = pd.DataFrame(scaler_dataframe.fit_transform(np.array(train_data['Close']).reshape(-1,1)))\n",
    "#print(training_scaled.head())\n",
    "\n",
    "# Testing Data\n",
    "testing_scaled = pd.DataFrame(scaler_dataframe.transform(np.array(test_data['Close']).reshape(-1,1)))\n",
    "#print(testing_scaled.head())"
   ]
  },
  {
   "cell_type": "markdown",
   "metadata": {},
   "source": [
    "#### Data Pre-Processing\n",
    "Rows for time steps and columns for parallel series (features)"
   ]
  },
  {
   "cell_type": "code",
   "execution_count": 108,
   "metadata": {},
   "outputs": [],
   "source": [
    "# Preparing data for the experiment with an univariate model \n",
    "# Getting Closing Price and arranging lists for training/testing based on the sequence\n",
    "\n",
    "def split_sequence(sequence, n_steps):\n",
    "    X, y = list(), list()\n",
    "    for i in range(len(sequence)):\n",
    "        # find the end of this pattern\n",
    "        end_ix = i + n_steps\n",
    "        # check if we are beyond the sequence\n",
    "        if end_ix > len(sequence)-1:\n",
    "            break\n",
    "        # gather input and output parts of the pattern\n",
    "        seq_x, seq_y = sequence[i:end_ix], sequence[end_ix]\n",
    "        X.append(seq_x)\n",
    "        y.append(seq_y)  \n",
    "    return np.array(X), np.array(y)"
   ]
  },
  {
   "cell_type": "code",
   "execution_count": 109,
   "metadata": {},
   "outputs": [],
   "source": [
    "window_size = 10\n",
    "\n",
    "train_univariate, y_train_univariate = split_sequence(np.array(training_scaled), window_size)\n",
    "test_univariate, y_test_univariate = split_sequence(np.array(testing_scaled), window_size)"
   ]
  },
  {
   "cell_type": "code",
   "execution_count": 110,
   "metadata": {},
   "outputs": [
    {
     "name": "stdout",
     "output_type": "stream",
     "text": [
      "(990, 10, 1)\n",
      "(990, 1)\n"
     ]
    }
   ],
   "source": [
    "# Reshape from [samples, timesteps] into [samples, timesteps, features]\n",
    "n_features = 1\n",
    "\n",
    "# Choose a number of time steps\n",
    "n_steps = train_univariate.shape[1]\n",
    "\n",
    "X = train_univariate.reshape(train_univariate.shape[0], train_univariate.shape[1], n_features) # Reshaping array in order to have a 3D input\n",
    "y = y_train_univariate\n",
    "\n",
    "print(X.shape)\n",
    "print(y.shape)"
   ]
  },
  {
   "cell_type": "markdown",
   "metadata": {},
   "source": [
    "#### Model fitting"
   ]
  },
  {
   "cell_type": "code",
   "execution_count": null,
   "metadata": {},
   "outputs": [],
   "source": [
    "# Define model\n",
    "\n",
    "model = Sequential()\n",
    "model.add(Conv1D(filters=64, kernel_size=3, activation='relu', input_shape=(n_steps, n_features)))\n",
    "model.add(MaxPooling1D(pool_size=2))\n",
    "model.add(Flatten())\n",
    "model.add(Dense(50, activation='relu'))\n",
    "model.add(Dense(1))\n",
    "model.compile(optimizer='adam', loss='mse')\n",
    "\n",
    "# fit model\n",
    "_ = model.fit(X, y, epochs=200, verbose=0)"
   ]
  },
  {
   "cell_type": "code",
   "execution_count": 112,
   "metadata": {},
   "outputs": [
    {
     "data": {
      "image/png": "[encoded data removed]",
      "text/plain": [
       "<Figure size 432x288 with 1 Axes>"
      ]
     },
     "metadata": {
      "needs_background": "light"
     },
     "output_type": "display_data"
    }
   ],
   "source": [
    "# Summarize history for loss\n",
    "\n",
    "plt.plot(model.history.history['loss'][2:])\n",
    "plt.title('model loss')\n",
    "plt.ylabel('loss')\n",
    "plt.xlabel('epoch')\n",
    "plt.show()"
   ]
  },
  {
   "cell_type": "code",
   "execution_count": 113,
   "metadata": {},
   "outputs": [],
   "source": [
    "# Lets define a function that will do a fit after each prediction\n",
    "\n",
    "def walk_foward_prediction(model, epoch_update, test_x, true_label):   \n",
    "    predictions = []\n",
    "    for i in range(test_x.shape[0]):\n",
    "        predictions.append(model.predict(test_x[i], verbose=0))\n",
    "        _ = model.fit(test_x[i], true_label[i], epochs=epoch_update, verbose=0)\n",
    "    return predictions"
   ]
  },
  {
   "cell_type": "code",
   "execution_count": 99,
   "metadata": {},
   "outputs": [
    {
     "name": "stdout",
     "output_type": "stream",
     "text": [
      "(251, 5, 1)\n",
      "(251, 1)\n",
      "(251, 1, 5, 1)\n"
     ]
    }
   ],
   "source": [
    "print(test_univariate.shape)\n",
    "print(y_test_univariate.shape)\n",
    "print(x.shape)"
   ]
  },
  {
   "cell_type": "code",
   "execution_count": 114,
   "metadata": {},
   "outputs": [],
   "source": [
    "y_pred = []\n",
    "epochs = 10\n",
    "\n",
    "x = test_univariate.reshape((test_univariate.shape[0], 1, n_steps, n_features))\n",
    "y_pred = walk_foward_prediction(model, epochs, x, y_test_univariate)"
   ]
  },
  {
   "cell_type": "code",
   "execution_count": 15,
   "metadata": {},
   "outputs": [],
   "source": [
    "# Checking with the testing data\n",
    "\n",
    "y_pred = []\n",
    "\n",
    "for i in range(test_univariate.shape[0]):\n",
    "    test = test_univariate[i].reshape((1, n_steps, n_features))\n",
    "    y_pred.append(model.predict(test, verbose=0))"
   ]
  },
  {
   "cell_type": "code",
   "execution_count": 115,
   "metadata": {},
   "outputs": [
    {
     "name": "stdout",
     "output_type": "stream",
     "text": [
      "Mean Squared Error (Testing Data): 3.102938\n",
      "Mean Absolute Error (Testing Data): 1.231057\n",
      "Root Mean Squared Error (Testing Data): 1.761516\n",
      "TU: 1.488398\n",
      "Hit Rate Prediction of Change in Direction(POCID): 46.122449\n"
     ]
    }
   ],
   "source": [
    "horizon_predicted = scaler_dataframe.inverse_transform(np.array(y_pred).reshape(-1))\n",
    "inverse_test_data = scaler_dataframe.inverse_transform(np.array(y_test_univariate).reshape(-1))\n",
    "                                                       \n",
    "MSE = mean_squared_error(inverse_test_data, horizon_predicted)\n",
    "MAE = mean_absolute_error(inverse_test_data, horizon_predicted)\n",
    "RMSE = np.sqrt(MSE)\n",
    "\n",
    "TU_metric = TU(inverse_test_data, horizon_predicted)\n",
    "POCID_metric = POCID(inverse_test_data, horizon_predicted)\n",
    "\n",
    "print('Mean Squared Error (Testing Data): %.6f' % MSE)\n",
    "print('Mean Absolute Error (Testing Data): %.6f' % MAE)\n",
    "print('Root Mean Squared Error (Testing Data): %.6f' % RMSE)\n",
    "print('TU: %.6f' % TU_metric)\n",
    "print('Hit Rate Prediction of Change in Direction(POCID): %.6f' % POCID_metric)"
   ]
  },
  {
   "cell_type": "code",
   "execution_count": 116,
   "metadata": {},
   "outputs": [
    {
     "data": {
      "image/png": "[encoded data removed]",
      "text/plain": [
       "<Figure size 720x360 with 1 Axes>"
      ]
     },
     "metadata": {
      "needs_background": "light"
     },
     "output_type": "display_data"
    }
   ],
   "source": [
    "plt.figure(figsize = (10,5))\n",
    "\n",
    "plt.plot(scaler_dataframe.inverse_transform(np.array(y_pred).reshape(-1)), label='Prediction')\n",
    "plt.plot(scaler_dataframe.inverse_transform(np.array(y_test_univariate).reshape(-1)), label='True')\n",
    "plt.xlabel('Sample')\n",
    "plt.ylabel('Closing Price')\n",
    "plt.legend(fontsize=10)\n",
    "\n",
    "plt.show()"
   ]
  },
  {
   "cell_type": "markdown",
   "metadata": {},
   "source": [
    "### 1D - CNN for 5 step ahead prediction with univariate input"
   ]
  },
  {
   "cell_type": "markdown",
   "metadata": {},
   "source": [
    "#### - Need a fix in the error analysis and plot of outputs"
   ]
  },
  {
   "cell_type": "code",
   "execution_count": 35,
   "metadata": {},
   "outputs": [],
   "source": [
    "# Split a univariate sequence into samples\n",
    "\n",
    "def split_sequence(sequence, n_steps_in, n_steps_out):\n",
    "    X, y = list(), list()\n",
    "    for i in range(len(sequence)):\n",
    "        # find the end of this pattern\n",
    "        end_ix = i + n_steps_in\n",
    "        out_end_ix = end_ix + n_steps_out\n",
    "        # check if we are beyond the sequence\n",
    "        if out_end_ix > len(sequence):\n",
    "            break\n",
    "        # gather input and output parts of the pattern\n",
    "        seq_x, seq_y = sequence[i:end_ix], sequence[end_ix:out_end_ix]\n",
    "        X.append(seq_x)\n",
    "        y.append(seq_y)\n",
    "    return np.array(X), np.array(y)"
   ]
  },
  {
   "cell_type": "code",
   "execution_count": 36,
   "metadata": {},
   "outputs": [],
   "source": [
    "# Choose a number of time steps\n",
    "n_steps_in, n_steps_out = 10, 5\n",
    "\n",
    "n_features = 1 # Univariate\n",
    "\n",
    "train_univariate, y_train_univariate = split_sequence(np.array(training_scaled), n_steps_in, n_steps_out)\n",
    "test_univariate, y_test_univariate = split_sequence(np.array(testing_scaled), n_steps_in, n_steps_out)"
   ]
  },
  {
   "cell_type": "code",
   "execution_count": 38,
   "metadata": {},
   "outputs": [
    {
     "name": "stdout",
     "output_type": "stream",
     "text": [
      "(986, 10, 1)\n",
      "(986, 5)\n"
     ]
    }
   ],
   "source": [
    "X = train_univariate.reshape(train_univariate.shape[0], train_univariate.shape[1], n_features) # Reshaping array in order to have a 3D input\n",
    "y = y_train_univariate.reshape(train_univariate.shape[0], n_steps_out)\n",
    "print(X.shape)\n",
    "print(y.shape)"
   ]
  },
  {
   "cell_type": "code",
   "execution_count": 39,
   "metadata": {},
   "outputs": [
    {
     "name": "stdout",
     "output_type": "stream",
     "text": [
      "Epoch 1/100\n",
      "986/986 [==============================] - 1s 761us/sample - loss: 0.3963\n",
      "Epoch 2/100\n",
      "986/986 [==============================] - 0s 252us/sample - loss: 0.0274\n",
      "Epoch 3/100\n",
      "986/986 [==============================] - 0s 256us/sample - loss: 0.0188\n",
      "Epoch 4/100\n",
      "986/986 [==============================] - 0s 260us/sample - loss: 0.0170\n",
      "Epoch 5/100\n",
      "986/986 [==============================] - 0s 255us/sample - loss: 0.0154\n",
      "Epoch 6/100\n",
      "986/986 [==============================] - 0s 272us/sample - loss: 0.0146\n",
      "Epoch 7/100\n",
      "986/986 [==============================] - 0s 251us/sample - loss: 0.0134\n",
      "Epoch 8/100\n",
      "986/986 [==============================] - 0s 265us/sample - loss: 0.0126\n",
      "Epoch 9/100\n",
      "986/986 [==============================] - 0s 252us/sample - loss: 0.0121\n",
      "Epoch 10/100\n",
      "986/986 [==============================] - 0s 264us/sample - loss: 0.0118\n",
      "Epoch 11/100\n",
      "986/986 [==============================] - 0s 343us/sample - loss: 0.0112\n",
      "Epoch 12/100\n",
      "986/986 [==============================] - 0s 294us/sample - loss: 0.0108\n",
      "Epoch 13/100\n",
      "986/986 [==============================] - 0s 252us/sample - loss: 0.0107\n",
      "Epoch 14/100\n",
      "986/986 [==============================] - 0s 254us/sample - loss: 0.0106\n",
      "Epoch 15/100\n",
      "986/986 [==============================] - 0s 264us/sample - loss: 0.0105\n",
      "Epoch 16/100\n",
      "986/986 [==============================] - 0s 264us/sample - loss: 0.0105\n",
      "Epoch 17/100\n",
      "986/986 [==============================] - 0s 272us/sample - loss: 0.0100\n",
      "Epoch 18/100\n",
      "986/986 [==============================] - 0s 262us/sample - loss: 0.0103\n",
      "Epoch 19/100\n",
      "986/986 [==============================] - 0s 259us/sample - loss: 0.0102\n",
      "Epoch 20/100\n",
      "986/986 [==============================] - 0s 265us/sample - loss: 0.0102\n",
      "Epoch 21/100\n",
      "986/986 [==============================] - 0s 258us/sample - loss: 0.0098\n",
      "Epoch 22/100\n",
      "986/986 [==============================] - 0s 265us/sample - loss: 0.0096\n",
      "Epoch 23/100\n",
      "986/986 [==============================] - 0s 258us/sample - loss: 0.0099\n",
      "Epoch 24/100\n",
      "986/986 [==============================] - 0s 271us/sample - loss: 0.0103\n",
      "Epoch 25/100\n",
      "986/986 [==============================] - 0s 255us/sample - loss: 0.0095\n",
      "Epoch 26/100\n",
      "986/986 [==============================] - 0s 267us/sample - loss: 0.0097\n",
      "Epoch 27/100\n",
      "986/986 [==============================] - 0s 259us/sample - loss: 0.0099\n",
      "Epoch 28/100\n",
      "986/986 [==============================] - 0s 264us/sample - loss: 0.0098\n",
      "Epoch 29/100\n",
      "986/986 [==============================] - 0s 265us/sample - loss: 0.0096\n",
      "Epoch 30/100\n",
      "986/986 [==============================] - 0s 319us/sample - loss: 0.0096\n",
      "Epoch 31/100\n",
      "986/986 [==============================] - 0s 263us/sample - loss: 0.0096\n",
      "Epoch 32/100\n",
      "986/986 [==============================] - 0s 262us/sample - loss: 0.0095\n",
      "Epoch 33/100\n",
      "986/986 [==============================] - 0s 260us/sample - loss: 0.0100\n",
      "Epoch 34/100\n",
      "986/986 [==============================] - 0s 264us/sample - loss: 0.0095\n",
      "Epoch 35/100\n",
      "986/986 [==============================] - 0s 264us/sample - loss: 0.0097\n",
      "Epoch 36/100\n",
      "986/986 [==============================] - 0s 262us/sample - loss: 0.0093\n",
      "Epoch 37/100\n",
      "986/986 [==============================] - 0s 269us/sample - loss: 0.0097\n",
      "Epoch 38/100\n",
      "986/986 [==============================] - 0s 316us/sample - loss: 0.0092\n",
      "Epoch 39/100\n",
      "986/986 [==============================] - 0s 270us/sample - loss: 0.0094\n",
      "Epoch 40/100\n",
      "986/986 [==============================] - 0s 256us/sample - loss: 0.0093\n",
      "Epoch 41/100\n",
      "986/986 [==============================] - 0s 288us/sample - loss: 0.0094\n",
      "Epoch 42/100\n",
      "986/986 [==============================] - 0s 288us/sample - loss: 0.0094\n",
      "Epoch 43/100\n",
      "986/986 [==============================] - 0s 291us/sample - loss: 0.0093\n",
      "Epoch 44/100\n",
      "986/986 [==============================] - 0s 305us/sample - loss: 0.0092\n",
      "Epoch 45/100\n",
      "986/986 [==============================] - 0s 262us/sample - loss: 0.0092\n",
      "Epoch 46/100\n",
      "986/986 [==============================] - 0s 254us/sample - loss: 0.0091\n",
      "Epoch 47/100\n",
      "986/986 [==============================] - 0s 274us/sample - loss: 0.0092\n",
      "Epoch 48/100\n",
      "986/986 [==============================] - 0s 269us/sample - loss: 0.0094\n",
      "Epoch 49/100\n",
      "986/986 [==============================] - 0s 261us/sample - loss: 0.0090\n",
      "Epoch 50/100\n",
      "986/986 [==============================] - 0s 263us/sample - loss: 0.0091\n",
      "Epoch 51/100\n",
      "986/986 [==============================] - 0s 262us/sample - loss: 0.0090\n",
      "Epoch 52/100\n",
      "986/986 [==============================] - 0s 265us/sample - loss: 0.0091\n",
      "Epoch 53/100\n",
      "986/986 [==============================] - 0s 265us/sample - loss: 0.0091\n",
      "Epoch 54/100\n",
      "986/986 [==============================] - 0s 259us/sample - loss: 0.0093\n",
      "Epoch 55/100\n",
      "986/986 [==============================] - 0s 274us/sample - loss: 0.0089\n",
      "Epoch 56/100\n",
      "986/986 [==============================] - 0s 330us/sample - loss: 0.0095\n",
      "Epoch 57/100\n",
      "986/986 [==============================] - 0s 258us/sample - loss: 0.0092\n",
      "Epoch 58/100\n",
      "986/986 [==============================] - 0s 277us/sample - loss: 0.0091\n",
      "Epoch 59/100\n",
      "986/986 [==============================] - 0s 265us/sample - loss: 0.0088\n",
      "Epoch 60/100\n",
      "986/986 [==============================] - 0s 266us/sample - loss: 0.0088\n",
      "Epoch 61/100\n",
      "986/986 [==============================] - 0s 268us/sample - loss: 0.0089\n",
      "Epoch 62/100\n",
      "986/986 [==============================] - 0s 266us/sample - loss: 0.0088\n",
      "Epoch 63/100\n",
      "986/986 [==============================] - 0s 264us/sample - loss: 0.0092\n",
      "Epoch 64/100\n",
      "986/986 [==============================] - 0s 261us/sample - loss: 0.0090\n",
      "Epoch 65/100\n",
      "986/986 [==============================] - 0s 265us/sample - loss: 0.0090\n",
      "Epoch 66/100\n",
      "986/986 [==============================] - 0s 261us/sample - loss: 0.0095\n",
      "Epoch 67/100\n",
      "986/986 [==============================] - 0s 317us/sample - loss: 0.0091\n",
      "Epoch 68/100\n",
      "986/986 [==============================] - 0s 263us/sample - loss: 0.0087\n",
      "Epoch 69/100\n",
      "986/986 [==============================] - 0s 259us/sample - loss: 0.0095\n",
      "Epoch 70/100\n",
      "986/986 [==============================] - 0s 270us/sample - loss: 0.0100\n",
      "Epoch 71/100\n",
      "986/986 [==============================] - 0s 257us/sample - loss: 0.0087\n",
      "Epoch 72/100\n",
      "986/986 [==============================] - 0s 273us/sample - loss: 0.0090\n",
      "Epoch 73/100\n",
      "986/986 [==============================] - 0s 261us/sample - loss: 0.0092\n",
      "Epoch 74/100\n",
      "986/986 [==============================] - 0s 262us/sample - loss: 0.0090\n",
      "Epoch 75/100\n",
      "986/986 [==============================] - 0s 272us/sample - loss: 0.0090\n",
      "Epoch 76/100\n",
      "986/986 [==============================] - 0s 256us/sample - loss: 0.0087\n",
      "Epoch 77/100\n",
      "986/986 [==============================] - 0s 289us/sample - loss: 0.0088\n",
      "Epoch 78/100\n",
      "986/986 [==============================] - 0s 302us/sample - loss: 0.0087\n",
      "Epoch 79/100\n",
      "986/986 [==============================] - 0s 297us/sample - loss: 0.0086\n",
      "Epoch 80/100\n",
      "986/986 [==============================] - 0s 311us/sample - loss: 0.0093\n",
      "Epoch 81/100\n",
      "986/986 [==============================] - 0s 318us/sample - loss: 0.0086\n",
      "Epoch 82/100\n",
      "986/986 [==============================] - 0s 292us/sample - loss: 0.0087\n",
      "Epoch 83/100\n",
      "986/986 [==============================] - 0s 303us/sample - loss: 0.0091\n",
      "Epoch 84/100\n",
      "986/986 [==============================] - 0s 262us/sample - loss: 0.0087\n",
      "Epoch 85/100\n",
      "986/986 [==============================] - 0s 268us/sample - loss: 0.0087\n",
      "Epoch 86/100\n",
      "986/986 [==============================] - 0s 254us/sample - loss: 0.0090\n",
      "Epoch 87/100\n",
      "986/986 [==============================] - 0s 299us/sample - loss: 0.0090\n",
      "Epoch 88/100\n",
      "986/986 [==============================] - 0s 265us/sample - loss: 0.0088\n",
      "Epoch 89/100\n",
      "986/986 [==============================] - 0s 254us/sample - loss: 0.0086\n",
      "Epoch 90/100\n",
      "986/986 [==============================] - 0s 261us/sample - loss: 0.0085\n",
      "Epoch 91/100\n",
      "986/986 [==============================] - 0s 262us/sample - loss: 0.0086\n",
      "Epoch 92/100\n",
      "986/986 [==============================] - 0s 257us/sample - loss: 0.0085\n",
      "Epoch 93/100\n",
      "986/986 [==============================] - 0s 311us/sample - loss: 0.0086\n",
      "Epoch 94/100\n",
      "986/986 [==============================] - 0s 298us/sample - loss: 0.0085\n",
      "Epoch 95/100\n",
      "986/986 [==============================] - 0s 279us/sample - loss: 0.0087\n",
      "Epoch 96/100\n",
      "986/986 [==============================] - 0s 305us/sample - loss: 0.0087\n",
      "Epoch 97/100\n",
      "986/986 [==============================] - 0s 267us/sample - loss: 0.0091\n",
      "Epoch 98/100\n",
      "986/986 [==============================] - 0s 264us/sample - loss: 0.0087\n",
      "Epoch 99/100\n",
      "986/986 [==============================] - 0s 257us/sample - loss: 0.0086\n",
      "Epoch 100/100\n",
      "986/986 [==============================] - 0s 270us/sample - loss: 0.0090\n"
     ]
    }
   ],
   "source": [
    "# Define model\n",
    "\n",
    "model = Sequential()\n",
    "model.add(Conv1D(filters=64, kernel_size=3, activation='relu', input_shape=(n_steps_in, n_features)))\n",
    "model.add(MaxPooling1D(pool_size=2))\n",
    "model.add(Flatten())\n",
    "model.add(Dense(50, activation='relu'))\n",
    "model.add(Dense(n_steps_out))\n",
    "model.compile(optimizer='adam', loss='mse')\n",
    "\n",
    "_ = model.fit(X, y, epochs=100)"
   ]
  },
  {
   "cell_type": "code",
   "execution_count": 40,
   "metadata": {},
   "outputs": [
    {
     "data": {
      "image/png": "[encoded data removed]",
      "text/plain": [
       "<Figure size 432x288 with 1 Axes>"
      ]
     },
     "metadata": {
      "needs_background": "light"
     },
     "output_type": "display_data"
    }
   ],
   "source": [
    "# Summarize history for loss\n",
    "\n",
    "plt.plot(model.history.history['loss'])\n",
    "plt.title('model loss')\n",
    "plt.ylabel('loss')\n",
    "plt.xlabel('epoch')\n",
    "plt.show()"
   ]
  },
  {
   "cell_type": "code",
   "execution_count": 42,
   "metadata": {},
   "outputs": [],
   "source": [
    "# Checking with the testing data\n",
    "\n",
    "y_pred = []\n",
    "\n",
    "for i in range(test_univariate.shape[0]):\n",
    "    test = test_univariate[i].reshape((1, n_steps_in, n_features))\n",
    "    y_pred.append(model.predict(test, verbose=0))"
   ]
  },
  {
   "cell_type": "code",
   "execution_count": 43,
   "metadata": {},
   "outputs": [
    {
     "name": "stdout",
     "output_type": "stream",
     "text": [
      "Mean Squared Error (Testing Data): 8.667862\n",
      "Mean Absolute Error (Testing Data): 2.127252\n",
      "Root Mean Squared Error (Testing Data): 2.944123\n",
      "TU: 2.864046\n",
      "Hit Rate Prediction of Change in Direction(POCID): 50.620347\n"
     ]
    }
   ],
   "source": [
    "horizon_predicted = scaler_dataframe.inverse_transform(np.array(y_pred).reshape(-1))\n",
    "inverse_test_data = scaler_dataframe.inverse_transform(np.array(y_test_univariate).reshape(-1))\n",
    "                                                       \n",
    "MSE = mean_squared_error(inverse_test_data, horizon_predicted)\n",
    "MAE = mean_absolute_error(inverse_test_data, horizon_predicted)\n",
    "RMSE = np.sqrt(MSE)\n",
    "\n",
    "TU_metric = TU(inverse_test_data, horizon_predicted)\n",
    "POCID_metric = POCID(inverse_test_data, horizon_predicted)\n",
    "\n",
    "print('Mean Squared Error (Testing Data): %.6f' % MSE)\n",
    "print('Mean Absolute Error (Testing Data): %.6f' % MAE)\n",
    "print('Root Mean Squared Error (Testing Data): %.6f' % RMSE)\n",
    "print('TU: %.6f' % TU_metric)\n",
    "print('Hit Rate Prediction of Change in Direction(POCID): %.6f' % POCID_metric)"
   ]
  },
  {
   "cell_type": "code",
   "execution_count": 44,
   "metadata": {},
   "outputs": [
    {
     "data": {
      "image/png": "[encoded data removed]",
      "text/plain": [
       "<Figure size 720x360 with 1 Axes>"
      ]
     },
     "metadata": {
      "needs_background": "light"
     },
     "output_type": "display_data"
    }
   ],
   "source": [
    "plt.figure(figsize = (10,5))\n",
    "\n",
    "plt.plot(horizon_predicted, label='Prediction')\n",
    "plt.plot(inverse_test_data, label='True')\n",
    "plt.xlabel('Sample')\n",
    "plt.ylabel('Closing Price')\n",
    "plt.legend(fontsize=10)\n",
    "\n",
    "plt.show()"
   ]
  },
  {
   "cell_type": "markdown",
   "metadata": {},
   "source": [
    "## 1D - CNN Multivariate input example"
   ]
  },
  {
   "cell_type": "markdown",
   "metadata": {},
   "source": [
    "### 1D - CNN for 1 step ahead prediction with multivariate input"
   ]
  },
  {
   "cell_type": "code",
   "execution_count": 118,
   "metadata": {},
   "outputs": [],
   "source": [
    "# Training Data\n",
    "\n",
    "scaler_dataframe = StandardScaler()\n",
    "training_scaled = pd.DataFrame(scaler_dataframe.fit_transform(np.array(MMM_stocks.iloc[:1000,:])))\n",
    "#print(training_scaled.head())\n",
    "\n",
    "# Testing Data\n",
    "testing_scaled = pd.DataFrame(scaler_dataframe.transform(np.array(MMM_stocks.iloc[1000:,:])))\n",
    "#print(testing_scaled.head())\n",
    "\n",
    "# Scaler for the final output based on the closing price column for the training set\n",
    "\n",
    "closing_price_scaler = StandardScaler()\n",
    "scaler_output = closing_price_scaler.fit(np.array(MMM_stocks.iloc[:1000,:]['Close']).reshape(-1,1))"
   ]
  },
  {
   "cell_type": "markdown",
   "metadata": {},
   "source": [
    "#### Data Pre-Processing\n",
    "Rows for time steps and columns for parallel series (features)"
   ]
  },
  {
   "cell_type": "code",
   "execution_count": 120,
   "metadata": {},
   "outputs": [],
   "source": [
    "# Split a multivariate sequence into samples\n",
    "def split_sequences(sequences, n_steps):\n",
    "    X, y = list(), list()\n",
    "    for i in range(len(sequences)):\n",
    "        # find the end of this pattern\n",
    "        end_ix = i + n_steps\n",
    "        # check if we are beyond the dataset\n",
    "        if end_ix > len(sequences)-1:\n",
    "            break\n",
    "        # gather input and output parts of the pattern\n",
    "        seq_x, seq_y = sequences[i:end_ix, :-1], sequences[end_ix-1, -1]\n",
    "        X.append(seq_x)\n",
    "        y.append(seq_y)\n",
    "    return np.array(X), np.array(y)"
   ]
  },
  {
   "cell_type": "code",
   "execution_count": 121,
   "metadata": {},
   "outputs": [
    {
     "name": "stdout",
     "output_type": "stream",
     "text": [
      "(990, 10, 8)\n",
      "(990,)\n"
     ]
    }
   ],
   "source": [
    "window_size = 10\n",
    "n_features = 8\n",
    "\n",
    "train_univariate, y_train_univariate = split_sequences(np.array(training_scaled), window_size)\n",
    "test_univariate, y_test_univariate = split_sequences(np.array(testing_scaled), window_size)\n",
    "\n",
    "print(train_univariate.shape)\n",
    "print(y_train_univariate.shape)"
   ]
  },
  {
   "cell_type": "markdown",
   "metadata": {},
   "source": [
    "#### Model fitting"
   ]
  },
  {
   "cell_type": "code",
   "execution_count": 147,
   "metadata": {},
   "outputs": [],
   "source": [
    "# Define model\n",
    "\n",
    "model = Sequential()\n",
    "model.add(Conv1D(filters=64, kernel_size=3, activation='relu', input_shape=(window_size, n_features)))\n",
    "model.add(MaxPooling1D(pool_size=2))\n",
    "model.add(Flatten())\n",
    "model.add(Dense(50, activation='relu'))\n",
    "model.add(Dense(1))\n",
    "model.compile(optimizer='adam', loss='mse')\n",
    "\n",
    "# fit model\n",
    "_ = model.fit(train_univariate, y_train_univariate, epochs=200, verbose = 0)"
   ]
  },
  {
   "cell_type": "code",
   "execution_count": 148,
   "metadata": {},
   "outputs": [
    {
     "data": {
      "image/png": "[encoded data removed]",
      "text/plain": [
       "<Figure size 432x288 with 1 Axes>"
      ]
     },
     "metadata": {
      "needs_background": "light"
     },
     "output_type": "display_data"
    }
   ],
   "source": [
    "# Summarize history for loss\n",
    "\n",
    "plt.plot(model.history.history['loss'][2:])\n",
    "plt.title('model loss')\n",
    "plt.ylabel('loss')\n",
    "plt.xlabel('epoch')\n",
    "plt.show()"
   ]
  },
  {
   "cell_type": "code",
   "execution_count": 149,
   "metadata": {},
   "outputs": [],
   "source": [
    "# Using the Walk Foward Validation Strategy\n",
    "\n",
    "y_pred = []\n",
    "epochs = 10\n",
    "\n",
    "test = test_univariate.reshape((test_univariate.shape[0], 1, window_size, n_features))\n",
    "y_test = y_test_univariate.reshape(y_test_univariate.shape[0],1)\n",
    "\n",
    "y_pred = walk_foward_prediction(model, epochs, test, y_test)"
   ]
  },
  {
   "cell_type": "code",
   "execution_count": 131,
   "metadata": {},
   "outputs": [],
   "source": [
    "# Checking with the testing data\n",
    "\n",
    "#y_pred = []\n",
    "\n",
    "#for i in range(test_univariate.shape[0]):\n",
    "#    test = test_univariate[i].reshape((1, window_size, n_features))\n",
    "#    y_pred.append(model.predict(test, verbose=0))"
   ]
  },
  {
   "cell_type": "code",
   "execution_count": 150,
   "metadata": {},
   "outputs": [
    {
     "name": "stdout",
     "output_type": "stream",
     "text": [
      "Mean Squared Error (Testing Data): 3.626362\n",
      "Mean Absolute Error (Testing Data): 1.404752\n",
      "Root Mean Squared Error (Testing Data): 1.904301\n",
      "TU: 1.738594\n",
      "Hit Rate Prediction of Change in Direction(POCID): 44.897959\n"
     ]
    }
   ],
   "source": [
    "horizon_predicted = scaler_output.inverse_transform(np.array(y_pred).reshape(-1))\n",
    "inverse_test_data = scaler_output.inverse_transform(np.array(y_test_univariate).reshape(-1))\n",
    "                                                       \n",
    "MSE = mean_squared_error(inverse_test_data, horizon_predicted)\n",
    "MAE = mean_absolute_error(inverse_test_data, horizon_predicted)\n",
    "RMSE = np.sqrt(MSE)\n",
    "\n",
    "TU_metric = TU(inverse_test_data, horizon_predicted)\n",
    "POCID_metric = POCID(inverse_test_data, horizon_predicted)\n",
    "\n",
    "print('Mean Squared Error (Testing Data): %.6f' % MSE)\n",
    "print('Mean Absolute Error (Testing Data): %.6f' % MAE)\n",
    "print('Root Mean Squared Error (Testing Data): %.6f' % RMSE)\n",
    "print('TU: %.6f' % TU_metric)\n",
    "print('Hit Rate Prediction of Change in Direction(POCID): %.6f' % POCID_metric)"
   ]
  },
  {
   "cell_type": "code",
   "execution_count": 152,
   "metadata": {},
   "outputs": [
    {
     "data": {
      "image/png": "[encoded data removed]",
      "text/plain": [
       "<Figure size 720x360 with 1 Axes>"
      ]
     },
     "metadata": {
      "needs_background": "light"
     },
     "output_type": "display_data"
    }
   ],
   "source": [
    "plt.figure(figsize = (10,5))\n",
    "\n",
    "plt.plot(horizon_predicted, label='Prediction')\n",
    "plt.plot(inverse_test_data, label='True')\n",
    "plt.xlabel('Sample')\n",
    "plt.ylabel('Closing Price')\n",
    "plt.legend(fontsize=10)\n",
    "plt.show()"
   ]
  },
  {
   "cell_type": "markdown",
   "metadata": {},
   "source": [
    "### 1D CNN for multi-step ahead prediction with multivariate input"
   ]
  },
  {
   "cell_type": "code",
   "execution_count": null,
   "metadata": {},
   "outputs": [],
   "source": [
    "def split_sequences(sequences, n_steps_in, n_steps_out):\n",
    "    X, y = list(), list()\n",
    "    for i in range(len(sequences)):\n",
    "        # find the end of this pattern\n",
    "        end_ix = i + n_steps_in\n",
    "        out_end_ix = end_ix + n_steps_out-1\n",
    "        # check if we are beyond the dataset\n",
    "        if out_end_ix > len(sequences):\n",
    "            break\n",
    "        # gather input and output parts of the pattern\n",
    "        seq_x, seq_y = sequences[i:end_ix, :-1], sequences[end_ix-1:out_end_ix, -1]\n",
    "        X.append(seq_x)\n",
    "        y.append(seq_y)\n",
    "    return array(X), array(y)"
   ]
  },
  {
   "cell_type": "code",
   "execution_count": null,
   "metadata": {},
   "outputs": [],
   "source": [
    "# Training Data\n",
    "\n",
    "scaler_dataframe = StandardScaler()\n",
    "training_scaled = pd.DataFrame(scaler_dataframe.fit_transform(np.array(MMM_stocks.iloc[:1000,:])))\n",
    "#print(training_scaled.head())\n",
    "\n",
    "# Testing Data\n",
    "testing_scaled = pd.DataFrame(scaler_dataframe.transform(np.array(MMM_stocks.iloc[1000:,:])))\n",
    "#print(testing_scaled.head())\n",
    "\n",
    "# Scaler for the final output based on the closing price column for the training set\n",
    "\n",
    "closing_price_scaler = StandardScaler()\n",
    "scaler_output = closing_price_scaler.fit(np.array(MMM_stocks.iloc[:1000,:]['Close']).reshape(-1,1))"
   ]
  },
  {
   "cell_type": "code",
   "execution_count": null,
   "metadata": {},
   "outputs": [],
   "source": [
    "# Choose a number of time steps\n",
    "n_features = 8\n",
    "n_steps_in, n_steps_out = 10, 5\n",
    "\n",
    "train_multivariate, y_train_multivariate = split_sequences(np.array(training_scaled), n_steps_in, n_steps_out)\n",
    "test_multivariate, y_test_multivariate = split_sequences(np.array(testing_scaled), n_steps_in, n_steps_out)\n",
    "\n",
    "#print(train_multivariate.shape)\n",
    "#print(y_train_multivariate.shape)"
   ]
  },
  {
   "cell_type": "code",
   "execution_count": null,
   "metadata": {},
   "outputs": [],
   "source": [
    "X = train_multivariate.reshape(train_multivariate.shape[0], train_multivariate.shape[1], n_features) # Reshaping array in order to have a 3D input\n",
    "y = y_train_multivariate.reshape(train_multivariate.shape[0], n_steps_out)\n",
    "print(X.shape)\n",
    "print(y.shape)"
   ]
  },
  {
   "cell_type": "markdown",
   "metadata": {},
   "source": [
    "#### Model fitting"
   ]
  },
  {
   "cell_type": "code",
   "execution_count": null,
   "metadata": {},
   "outputs": [],
   "source": [
    "# Define model\n",
    "\n",
    "model = Sequential()\n",
    "model.add(Conv1D(filters=64, kernel_size=2, activation='relu', input_shape=(n_steps_in, n_features)))\n",
    "model.add(MaxPooling1D(pool_size=2))\n",
    "model.add(Flatten())\n",
    "model.add(Dense(50, activation='relu'))\n",
    "model.add(Dense(n_steps_out))\n",
    "model.compile(optimizer='adam', loss='mse')\n",
    "# fit model\n",
    "model.fit(X, y, epochs=1000)"
   ]
  },
  {
   "cell_type": "code",
   "execution_count": null,
   "metadata": {},
   "outputs": [],
   "source": [
    "# Summarize history for loss\n",
    "\n",
    "plt.plot(model.history.history['loss'])\n",
    "plt.title('model loss')\n",
    "plt.ylabel('loss')\n",
    "plt.xlabel('epoch')\n",
    "plt.show()"
   ]
  },
  {
   "cell_type": "code",
   "execution_count": null,
   "metadata": {},
   "outputs": [],
   "source": [
    "# Checking with the testing data\n",
    "\n",
    "y_pred = []\n",
    "\n",
    "for i in range(test_multivariate.shape[0]):\n",
    "    test = test_multivariate[i].reshape((1, n_steps_in, n_features))\n",
    "    y_pred.append(model.predict(test, verbose=0))"
   ]
  },
  {
   "cell_type": "code",
   "execution_count": null,
   "metadata": {},
   "outputs": [],
   "source": [
    "horizon_predicted = scaler_output.inverse_transform(np.array(y_pred).reshape(-1))[:-1] # Just to take care of the NaN\n",
    "inverse_test_data = scaler_output.inverse_transform(np.array(y_test_multivariate).reshape(-1))[:-1] # Just to take care of the NaN\n",
    "                                                       \n",
    "MSE = mean_squared_error(inverse_test_data, horizon_predicted)\n",
    "MAE = mean_absolute_error(inverse_test_data, horizon_predicted)\n",
    "RMSE = np.sqrt(MSE)\n",
    "\n",
    "TU_metric = TU(inverse_test_data, horizon_predicted)\n",
    "POCID_metric = POCID(inverse_test_data, horizon_predicted)\n",
    "\n",
    "print('Mean Squared Error (Testing Data): %.6f' % MSE)\n",
    "print('Mean Absolute Error (Testing Data): %.6f' % MAE)\n",
    "print('Root Mean Squared Error (Testing Data): %.6f' % RMSE)\n",
    "print('TU: %.6f' % TU_metric)\n",
    "print('Hit Rate Prediction of Change in Direction(POCID): %.6f' % POCID_metric)"
   ]
  },
  {
   "cell_type": "code",
   "execution_count": null,
   "metadata": {},
   "outputs": [],
   "source": [
    "plt.figure(figsize = (10,5))\n",
    "\n",
    "plt.plot(horizon_predicted, label='Prediction')\n",
    "plt.plot(inverse_test_data, label='True')\n",
    "plt.xlabel('Sample')\n",
    "plt.ylabel('Closing Price')\n",
    "plt.legend(fontsize=10)\n",
    "\n",
    "plt.show()"
   ]
  },
  {
   "cell_type": "markdown",
   "metadata": {},
   "source": [
    "### To be done: Multi-Head 1D CNN for Multi-variate Input\n",
    "https://machinelearningmastery.com/how-to-develop-convolutional-neural-network-models-for-time-series-forecasting/"
   ]
  }
 ],
 "metadata": {
  "kernelspec": {
   "display_name": "Finance Class Kernel",
   "language": "python",
   "name": "finance_class"
  },
  "language_info": {
   "codemirror_mode": {
    "name": "ipython",
    "version": 3
   },
   "file_extension": ".py",
   "mimetype": "text/x-python",
   "name": "python",
   "nbconvert_exporter": "python",
   "pygments_lexer": "ipython3",
   "version": "3.7.2"
  }
 },
 "nbformat": 4,
 "nbformat_minor": 2
}
