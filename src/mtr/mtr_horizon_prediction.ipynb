{
 "cells": [
  {
   "cell_type": "code",
   "execution_count": 9,
   "metadata": {},
   "outputs": [],
   "source": [
    "# Imports\n",
    "import pandas as pd\n",
    "import numpy as np\n",
    "import matplotlib.pyplot as plt\n",
    "from sklearn.ensemble import RandomForestRegressor\n",
    "from sklearn.linear_model import Lasso, ElasticNet\n",
    "from sklearn.svm import SVR\n",
    "from mtr_time_series import MTRTimeSeries"
   ]
  },
  {
   "cell_type": "code",
   "execution_count": 10,
   "metadata": {},
   "outputs": [
    {
     "data": {
      "text/html": [
       "<div>\n",
       "<style scoped>\n",
       "    .dataframe tbody tr th:only-of-type {\n",
       "        vertical-align: middle;\n",
       "    }\n",
       "\n",
       "    .dataframe tbody tr th {\n",
       "        vertical-align: top;\n",
       "    }\n",
       "\n",
       "    .dataframe thead th {\n",
       "        text-align: right;\n",
       "    }\n",
       "</style>\n",
       "<table border=\"1\" class=\"dataframe\">\n",
       "  <thead>\n",
       "    <tr style=\"text-align: right;\">\n",
       "      <th></th>\n",
       "      <th>Date</th>\n",
       "      <th>Open</th>\n",
       "      <th>High</th>\n",
       "      <th>Low</th>\n",
       "      <th>Close</th>\n",
       "      <th>Volume</th>\n",
       "      <th>Name</th>\n",
       "    </tr>\n",
       "  </thead>\n",
       "  <tbody>\n",
       "    <tr>\n",
       "      <th>0</th>\n",
       "      <td>2012-08-13</td>\n",
       "      <td>92.29</td>\n",
       "      <td>92.59</td>\n",
       "      <td>91.74</td>\n",
       "      <td>92.40</td>\n",
       "      <td>2075391.0</td>\n",
       "      <td>MMM</td>\n",
       "    </tr>\n",
       "    <tr>\n",
       "      <th>1</th>\n",
       "      <td>2012-08-14</td>\n",
       "      <td>92.36</td>\n",
       "      <td>92.50</td>\n",
       "      <td>92.01</td>\n",
       "      <td>92.30</td>\n",
       "      <td>1843476.0</td>\n",
       "      <td>MMM</td>\n",
       "    </tr>\n",
       "    <tr>\n",
       "      <th>2</th>\n",
       "      <td>2012-08-15</td>\n",
       "      <td>92.00</td>\n",
       "      <td>92.74</td>\n",
       "      <td>91.94</td>\n",
       "      <td>92.54</td>\n",
       "      <td>1983395.0</td>\n",
       "      <td>MMM</td>\n",
       "    </tr>\n",
       "    <tr>\n",
       "      <th>3</th>\n",
       "      <td>2012-08-16</td>\n",
       "      <td>92.75</td>\n",
       "      <td>93.87</td>\n",
       "      <td>92.21</td>\n",
       "      <td>93.74</td>\n",
       "      <td>3395145.0</td>\n",
       "      <td>MMM</td>\n",
       "    </tr>\n",
       "    <tr>\n",
       "      <th>4</th>\n",
       "      <td>2012-08-17</td>\n",
       "      <td>93.93</td>\n",
       "      <td>94.30</td>\n",
       "      <td>93.59</td>\n",
       "      <td>94.24</td>\n",
       "      <td>3069513.0</td>\n",
       "      <td>MMM</td>\n",
       "    </tr>\n",
       "  </tbody>\n",
       "</table>\n",
       "</div>"
      ],
      "text/plain": [
       "         Date   Open   High    Low  Close     Volume Name\n",
       "0  2012-08-13  92.29  92.59  91.74  92.40  2075391.0  MMM\n",
       "1  2012-08-14  92.36  92.50  92.01  92.30  1843476.0  MMM\n",
       "2  2012-08-15  92.00  92.74  91.94  92.54  1983395.0  MMM\n",
       "3  2012-08-16  92.75  93.87  92.21  93.74  3395145.0  MMM\n",
       "4  2012-08-17  93.93  94.30  93.59  94.24  3069513.0  MMM"
      ]
     },
     "execution_count": 10,
     "metadata": {},
     "output_type": "execute_result"
    }
   ],
   "source": [
    "# Read the data\n",
    "data = pd.read_csv('../../Data/all_stocks_5yr.csv')\n",
    "data.head(5)"
   ]
  },
  {
   "cell_type": "markdown",
   "metadata": {},
   "source": [
    "### All the actives"
   ]
  },
  {
   "cell_type": "code",
   "execution_count": 11,
   "metadata": {},
   "outputs": [
    {
     "data": {
      "text/plain": [
       "'A AAL AAP AAPL ABBV ABC ABT ACN ADBE ADI ADM ADP ADS ADSK AEE AEP AES AET AFL AGN AIG AIV AIZ AJG AKAM ALB ALGN ALK ALL ALLE ALXN AMAT AMD AME AMG AMGN AMP AMZN ANDV ANSS ANTM AON AOS APA APC APD APH ARE ARNC ATVI AVB AVGO AVY AWK AXP AYI AZO BA BAC BAX BBT BBY BCR BDX BEN BF.B BHF BHGE BIIB BK BLK BLL BMY BRK.B BSX BWA BXP C CA CAG CAH CAT CB CBG CBOE CBS CCI CCL CELG CERN CF CFG CHD CHK CHRW CHTR CI CINF CL CLX CMA CMCSA CME CMG CMI CMS CNC CNP COF COG COH COL COO COP COST COTY CPB CRM CSCO CSRA CSX CTAS CTL CTSH CTXS CVS CVX CXO D DAL DD DE DFS DG DGX DHI DHR DIS DISCA DISCK DISH DLPH DLR DLTR DOV DOW DPS DRE DRI DTE DUK DVA DVN DXC EA EBAY ECL ED EFX EIX EL EMN EMR EOG EQIX EQR EQT ES ESRX ESS ETFC ETN ETR EVHC EW EXC EXPD EXPE EXR F FAST FB FBHS FCX FDX FE FFIV FIS FISV FITB FL FLIR FLR FLS FMC FOX FOXA FRT FTI FTV GD GE GGP GILD GIS GLW GM GOOG GOOGL GPC GPN GPS GRMN GS GT GWW HAL HAS HBAN HBI HCA HCN HCP HD HES HIG HLT HOG HOLX HON HP HPE HPQ HRB HRL HRS HSIC HST HSY HUM IBM ICE IDXX IFF ILMN INCY INFO INTC INTU IP IPG IR IRM ISRG IT ITW IVZ JBHT JCI JEC JNJ JNPR JPM JWN K KEY KHC KIM KLAC KMB KMI KMX KO KORS KR KSS KSU L LB LEG LEN LH LKQ LLL LLY LNC LNT LOW LRCX LUK LUV LVLT LYB M MA MAA MAC MAR MAS MAT MCD MCHP MCK MCO MDLZ MDT MET MGM MHK MKC MLM MMC MMM MNST MO MON MOS MPC MRK MRO MS MSFT MSI MTB MTD MU MYL NAVI NDAQ NEE NEM NFLX NFX NI NKE NLSN NOC NOV NRG NSC NTAP NTRS NUE NVDA NWS NWSA NYSE:LMT NYSE:NBL NYSE:NWL O OKE OMC ORCL ORLY OXY PAYX PBCT PCAR PCG PCLN PDCO PEG PEP PFE PFG PG PGR PH PHM PKG PKI PLD PM PNC PNR PNW PPG PPL PRGO PRU PSA PSX PVH PWR PX PXD PYPL QCOM QRVO RCL RE REG REGN RF RHI RHT RJF RL RMD ROK ROP ROST RRC RSG RTN SBUX SCG SCHW SEE SHW SIG SJM SLB SLG SNA SNI SNPS SO SPG SPGI SPLS SRCL SRE STI STT STX STZ SWK SWKS SYF SYK SYMC SYY T TAP TEL TGT TIF TJX TMK TMO TRIP TROW TRV TSCO TSN TSS TWX TXN TXT UA UAA UAL UDR UHS ULTA UNH UNM UNP UPS URI USB UTX V VAR VFC VIAB VLO VMC VNO VRSK VRSN VRTX VTR VZ WAT WBA WDC WEC WFC WFM WHR WLTW WM WMB WMT WRK WU WY WYN WYNN XEC XEL XL XLNX XOM XRAY XRX XYL YUM ZBH ZION ZTS'"
      ]
     },
     "execution_count": 11,
     "metadata": {},
     "output_type": "execute_result"
    }
   ],
   "source": [
    "# All actives\n",
    "' '.join(np.unique(data.loc[:, 'Name']).tolist())"
   ]
  },
  {
   "cell_type": "markdown",
   "metadata": {},
   "source": [
    "### Now I'm going to select a single active to apply the MTR strategy (horizon predicting)"
   ]
  },
  {
   "cell_type": "code",
   "execution_count": 12,
   "metadata": {},
   "outputs": [],
   "source": [
    "select_actv = 'MMM'\n",
    "\n",
    "s_data = data[data['Name'] == select_actv]"
   ]
  },
  {
   "cell_type": "markdown",
   "metadata": {},
   "source": [
    "### Counting the amount of examples for the active"
   ]
  },
  {
   "cell_type": "code",
   "execution_count": null,
   "metadata": {},
   "outputs": [
    {
     "data": {
      "text/plain": [
       "1258"
      ]
     },
     "execution_count": 13,
     "metadata": {},
     "output_type": "execute_result"
    }
   ],
   "source": [
    "len(s_data)"
   ]
  },
  {
   "cell_type": "markdown",
   "metadata": {},
   "source": [
    "### Setup time serie"
   ]
  },
  {
   "cell_type": "code",
   "execution_count": null,
   "metadata": {},
   "outputs": [
    {
     "data": {
      "text/plain": [
       "[92.3, 92.54, 93.74, 94.24]"
      ]
     },
     "execution_count": 14,
     "metadata": {},
     "output_type": "execute_result"
    }
   ],
   "source": [
    "time_serie = s_data['Close'].values.tolist()\n",
    "time_serie[1:5]"
   ]
  },
  {
   "cell_type": "markdown",
   "metadata": {},
   "source": [
    "### Create and setup MTR evaluator"
   ]
  },
  {
   "cell_type": "code",
   "execution_count": null,
   "metadata": {},
   "outputs": [],
   "source": [
    "mtr_ts = MTRTimeSeries(\n",
    "    time_serie=time_serie,\n",
    "    window_size=20,\n",
    "    horizon_size=5,\n",
    "    init_buffer_size=200\n",
    ")"
   ]
  },
  {
   "cell_type": "markdown",
   "metadata": {},
   "source": [
    "### Set the regressor for the SST method"
   ]
  },
  {
   "cell_type": "code",
   "execution_count": null,
   "metadata": {},
   "outputs": [],
   "source": [
    "mtr_ts.set_regressor(RandomForestRegressor, {'n_estimators': 10, 'n_jobs': 6})\n",
    "# mtr_ts.set_regressor(Lasso, {'alpha': 0.1})\n",
    "# mtr_ts.set_regressor(ElasticNet, {})\n",
    "# mtr_ts.set_regressor(SVR, {'kernel': 'poly', 'degree': 4, 'gamma': 'auto'})"
   ]
  },
  {
   "cell_type": "markdown",
   "metadata": {},
   "source": [
    "### Iterate over time serie and get the predictions"
   ]
  },
  {
   "cell_type": "code",
   "execution_count": null,
   "metadata": {},
   "outputs": [],
   "source": [
    "predictions = np.array(mtr_ts.iterate_fit_predict())"
   ]
  },
  {
   "cell_type": "code",
   "execution_count": null,
   "metadata": {},
   "outputs": [
    {
     "data": {
      "text/plain": [
       "array([111.187, 111.578, 110.886, 111.142, 111.264, 110.46 , 110.349,\n",
       "       110.209, 109.463])"
      ]
     },
     "execution_count": 18,
     "metadata": {},
     "output_type": "execute_result"
    }
   ],
   "source": [
    "predictions[1:10]"
   ]
  },
  {
   "cell_type": "markdown",
   "metadata": {},
   "source": [
    "### Do the same thing but applying an exponential decay smoothing"
   ]
  },
  {
   "cell_type": "code",
   "execution_count": null,
   "metadata": {},
   "outputs": [],
   "source": [
    "mtr_ts_decay = MTRTimeSeries(\n",
    "    time_serie=time_serie,\n",
    "    window_size=20,\n",
    "    horizon_size=5,\n",
    "    init_buffer_size=200,\n",
    "    use_exp_smoothing=True,\n",
    "    gamma=0.5\n",
    ")\n",
    "mtr_ts_decay.set_regressor(RandomForestRegressor, {'n_estimators': 10, 'n_jobs': 6})\n",
    "# mtr_ts_decay.set_regressor(Lasso, {'alpha': 0.1})\n",
    "# mtr_ts_decay.set_regressor(ElasticNet, {})\n",
    "# mtr_ts_decay.set_regressor(SVR, {'kernel': 'poly', 'degree': 4, 'gamma': 'auto'})\n",
    "predictions_decay = np.array(mtr_ts_decay.iterate_fit_predict())"
   ]
  },
  {
   "cell_type": "code",
   "execution_count": null,
   "metadata": {},
   "outputs": [],
   "source": [
    "pred_start = mtr_ts.init_prediction_index()\n",
    "observations = np.array(time_serie[pred_start:(pred_start + len(predictions))])\n",
    "plt.figure(figsize=(10,5))\n",
    "plt.plot(observations, label='Observed')\n",
    "plt.plot(predictions, c='r', label='Predicted')\n",
    "plt.plot(predictions_decay, c='g', label='Exp Smoothing + Prediction')\n",
    "plt.legend(fontsize=8)\n",
    "plt.show()"
   ]
  },
  {
   "cell_type": "markdown",
   "metadata": {},
   "source": [
    "### Error functions"
   ]
  },
  {
   "cell_type": "code",
   "execution_count": null,
   "metadata": {},
   "outputs": [],
   "source": [
    "def MSE(obs, pred):\n",
    "    return np.sum((obs - pred) ** 2)/len(obs)\n",
    "\n",
    "def RMSE(obs, pred):\n",
    "    return np.sqrt(np.sum((obs - pred) ** 2)/len(obs))\n",
    "\n",
    "def RRMSE(obs, pred):\n",
    "    num = np.sum((obs - pred) ** 2) + 1e-6\n",
    "    den = np.sum((obs - np.mean(obs)) ** 2) + 1e-6\n",
    "    return np.sqrt(num/den)"
   ]
  },
  {
   "cell_type": "markdown",
   "metadata": {},
   "source": [
    "### Observed errors"
   ]
  },
  {
   "cell_type": "code",
   "execution_count": null,
   "metadata": {},
   "outputs": [],
   "source": [
    "print('MSE: {}'.format(MSE(observations, predictions)))\n",
    "print('RMSE: {}'.format(RMSE(observations, predictions)))\n",
    "print('RRMSE: {}'.format(RRMSE(observations, predictions)))\n",
    "print()\n",
    "print('MSE-Decay: {}'.format(MSE(observations, predictions_decay)))\n",
    "print('RMSE-Decay: {}'.format(RMSE(observations, predictions_decay)))\n",
    "print('RRMSE-Decay: {}'.format(RRMSE(observations, predictions_decay)))"
   ]
  }
 ],
 "metadata": {
  "kernelspec": {
   "display_name": "Python 3",
   "language": "python",
   "name": "python3"
  },
  "language_info": {
   "codemirror_mode": {
    "name": "ipython",
    "version": 3
   },
   "file_extension": ".py",
   "mimetype": "text/x-python",
   "name": "python",
   "nbconvert_exporter": "python",
   "pygments_lexer": "ipython3",
   "version": "3.7.0"
  }
 },
 "nbformat": 4,
 "nbformat_minor": 2
}
