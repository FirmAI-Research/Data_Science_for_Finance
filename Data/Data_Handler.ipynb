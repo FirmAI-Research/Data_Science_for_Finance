{
 "cells": [
  {
   "cell_type": "markdown",
   "metadata": {},
   "source": [
    "## Script for data acquisition"
   ]
  },
  {
   "cell_type": "code",
   "execution_count": 1,
   "metadata": {},
   "outputs": [],
   "source": [
    "import matplotlib.pyplot as plt\n",
    "import pandas as pd\n",
    "import pandas_datareader.data as web\n",
    "from ta import *"
   ]
  },
  {
   "cell_type": "code",
   "execution_count": 31,
   "metadata": {},
   "outputs": [
    {
     "data": {
      "text/html": [
       "<div>\n",
       "<style scoped>\n",
       "    .dataframe tbody tr th:only-of-type {\n",
       "        vertical-align: middle;\n",
       "    }\n",
       "\n",
       "    .dataframe tbody tr th {\n",
       "        vertical-align: top;\n",
       "    }\n",
       "\n",
       "    .dataframe thead th {\n",
       "        text-align: right;\n",
       "    }\n",
       "</style>\n",
       "<table border=\"1\" class=\"dataframe\">\n",
       "  <thead>\n",
       "    <tr style=\"text-align: right;\">\n",
       "      <th></th>\n",
       "      <th>open</th>\n",
       "      <th>high</th>\n",
       "      <th>low</th>\n",
       "      <th>close</th>\n",
       "      <th>volume</th>\n",
       "    </tr>\n",
       "    <tr>\n",
       "      <th>date</th>\n",
       "      <th></th>\n",
       "      <th></th>\n",
       "      <th></th>\n",
       "      <th></th>\n",
       "      <th></th>\n",
       "    </tr>\n",
       "  </thead>\n",
       "  <tbody>\n",
       "    <tr>\n",
       "      <th>2014-05-28</th>\n",
       "      <td>124.7061</td>\n",
       "      <td>124.7853</td>\n",
       "      <td>124.0466</td>\n",
       "      <td>124.3719</td>\n",
       "      <td>1566124</td>\n",
       "    </tr>\n",
       "    <tr>\n",
       "      <th>2014-05-29</th>\n",
       "      <td>124.4335</td>\n",
       "      <td>125.2513</td>\n",
       "      <td>124.1609</td>\n",
       "      <td>125.2162</td>\n",
       "      <td>1624138</td>\n",
       "    </tr>\n",
       "    <tr>\n",
       "      <th>2014-05-30</th>\n",
       "      <td>124.9699</td>\n",
       "      <td>125.4624</td>\n",
       "      <td>124.6797</td>\n",
       "      <td>125.3569</td>\n",
       "      <td>3908258</td>\n",
       "    </tr>\n",
       "    <tr>\n",
       "      <th>2014-06-02</th>\n",
       "      <td>125.1106</td>\n",
       "      <td>125.6734</td>\n",
       "      <td>124.6006</td>\n",
       "      <td>125.1546</td>\n",
       "      <td>1682363</td>\n",
       "    </tr>\n",
       "    <tr>\n",
       "      <th>2014-06-03</th>\n",
       "      <td>124.9436</td>\n",
       "      <td>125.8669</td>\n",
       "      <td>124.5302</td>\n",
       "      <td>125.6559</td>\n",
       "      <td>2061733</td>\n",
       "    </tr>\n",
       "  </tbody>\n",
       "</table>\n",
       "</div>"
      ],
      "text/plain": [
       "                open      high       low     close   volume\n",
       "date                                                       \n",
       "2014-05-28  124.7061  124.7853  124.0466  124.3719  1566124\n",
       "2014-05-29  124.4335  125.2513  124.1609  125.2162  1624138\n",
       "2014-05-30  124.9699  125.4624  124.6797  125.3569  3908258\n",
       "2014-06-02  125.1106  125.6734  124.6006  125.1546  1682363\n",
       "2014-06-03  124.9436  125.8669  124.5302  125.6559  2061733"
      ]
     },
     "execution_count": 31,
     "metadata": {},
     "output_type": "execute_result"
    }
   ],
   "source": [
    "# Collect data for 3M from 2015-04-22 to 2018-04-22 using Pandas Data Reader\n",
    "# IEX is able to get data from the last 5 years of any S&P 500\n",
    "\n",
    "start = '2014-04-22'\n",
    "end = '2019-05-22'\n",
    "df = pd.DataFrame(web.DataReader(name='MMM', data_source='iex', start=start, end=end))\n",
    "\n",
    "df.head()"
   ]
  },
  {
   "cell_type": "code",
   "execution_count": 32,
   "metadata": {},
   "outputs": [
    {
     "name": "stdout",
     "output_type": "stream",
     "text": [
      "open      False\n",
      "high      False\n",
      "low       False\n",
      "close     False\n",
      "volume    False\n",
      "dtype: bool\n",
      "              open        high          low        close        volume\n",
      "count  1256.000000  1256.00000  1256.000000  1256.000000  1.256000e+03\n",
      "mean    170.627891   171.75055   169.446076   170.669804  2.295208e+06\n",
      "std      31.534336    31.78322    31.163893    31.463441  1.083282e+06\n",
      "min     117.266800   119.10680   115.532900   117.567600  6.510070e+05\n",
      "25%     143.187925   144.29055   142.305150   143.243075  1.667414e+06\n",
      "50%     166.068600   166.85485   165.218600   166.048050  2.032874e+06\n",
      "75%     197.216400   198.68565   195.616775   197.263825  2.596403e+06\n",
      "max     247.978700   249.18730   245.542100   248.093800  1.464616e+07\n"
     ]
    }
   ],
   "source": [
    "print(df.isnull().any())\n",
    "print(df.describe())"
   ]
  },
  {
   "cell_type": "code",
   "execution_count": 29,
   "metadata": {},
   "outputs": [
    {
     "name": "stdout",
     "output_type": "stream",
     "text": [
      "20\n",
      "Index(['open', 'high', 'low', 'close', 'volume', 'volume_adi', 'volume_obv',\n",
      "       'volume_cmf', 'volume_fi', 'volume_em', 'volume_vpt', 'volume_nvi',\n",
      "       'volatility_atr', 'volatility_bbh', 'volatility_bbl', 'volatility_bbm',\n",
      "       'volatility_bbhi', 'volatility_bbli', 'volatility_kcc',\n",
      "       'volatility_kch', 'volatility_kcl', 'volatility_kchi',\n",
      "       'volatility_kcli', 'volatility_dch', 'volatility_dcl',\n",
      "       'volatility_dchi', 'volatility_dcli', 'trend_macd', 'trend_macd_signal',\n",
      "       'trend_macd_diff', 'trend_ema_fast', 'trend_ema_slow', 'trend_adx',\n",
      "       'trend_adx_pos', 'trend_adx_neg', 'trend_vortex_ind_pos',\n",
      "       'trend_vortex_ind_neg', 'trend_vortex_diff', 'trend_trix',\n",
      "       'trend_mass_index', 'trend_cci', 'trend_dpo', 'trend_kst',\n",
      "       'trend_kst_sig', 'trend_kst_diff', 'trend_ichimoku_a',\n",
      "       'trend_ichimoku_b', 'trend_visual_ichimoku_a',\n",
      "       'trend_visual_ichimoku_b', 'trend_aroon_up', 'trend_aroon_down',\n",
      "       'trend_aroon_ind', 'momentum_rsi', 'momentum_mfi', 'momentum_tsi',\n",
      "       'momentum_uo', 'momentum_stoch', 'momentum_stoch_signal', 'momentum_wr',\n",
      "       'momentum_ao', 'others_dr', 'others_dlr', 'others_cr'],\n",
      "      dtype='object')\n"
     ]
    }
   ],
   "source": [
    "# Add all technical indicator features based on the data using the TA library (https://github.com/bukosabino/ta)\n",
    "\n",
    "#df_all_features = add_all_ta_features(df, \"open\", \"high\", \"low\", \"close\", \"volume\", fillna=False)\n",
    "#print(sum(df_all_features.isnull().any() == True)) # Checking if any NA\n",
    "#print(df_all_features.columns)\n",
    "#df_all_features.to_csv(\"stock.csv\")"
   ]
  },
  {
   "cell_type": "code",
   "execution_count": 40,
   "metadata": {},
   "outputs": [],
   "source": [
    "# Add one specific indicator for each case (volume, volatility, trend, momentum, daily return)\n",
    "\n",
    "df_some_features = df\n",
    "df_some_features['volume_fi'] = force_index(df['close'], df['volume'], n=2, fillna=True)\n",
    "df_some_features['volatility_atr'] = average_true_range(df['high'], df['low'], df['close'], n=14, fillna=True)\n",
    "df_some_features['trend_macd'] = macd(df['close'], n_fast=12, n_slow=26, fillna=True)\n",
    "df_some_features['momentum_rsi'] = rsi(df['close'], n=14, fillna=True)\n",
    "df_some_features['others_dr'] = daily_return(df['close'], fillna=True)"
   ]
  },
  {
   "cell_type": "code",
   "execution_count": 44,
   "metadata": {},
   "outputs": [
    {
     "name": "stdout",
     "output_type": "stream",
     "text": [
      "open              False\n",
      "high              False\n",
      "low               False\n",
      "close             False\n",
      "volume            False\n",
      "volume_fi         False\n",
      "volatility_atr    False\n",
      "trend_macd        False\n",
      "momentum_rsi      False\n",
      "others_dr         False\n",
      "dtype: bool\n",
      "Index(['open', 'high', 'low', 'close', 'volume', 'volume_fi', 'volatility_atr',\n",
      "       'trend_macd', 'momentum_rsi', 'others_dr'],\n",
      "      dtype='object')\n"
     ]
    }
   ],
   "source": [
    "print(df_some_features.isnull().any() == True) # Checking if any NA\n",
    "print(df_some_features.columns)\n",
    "df_some_features.to_csv(\"stock.csv\")"
   ]
  }
 ],
 "metadata": {
  "kernelspec": {
   "display_name": "Python 3",
   "language": "python",
   "name": "python3"
  },
  "language_info": {
   "codemirror_mode": {
    "name": "ipython",
    "version": 3
   },
   "file_extension": ".py",
   "mimetype": "text/x-python",
   "name": "python",
   "nbconvert_exporter": "python",
   "pygments_lexer": "ipython3",
   "version": "3.7.2"
  }
 },
 "nbformat": 4,
 "nbformat_minor": 2
}
